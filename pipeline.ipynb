{
 "cells": [
  {
   "cell_type": "code",
   "execution_count": 1,
   "metadata": {},
   "outputs": [],
   "source": [
    "from PatchCutter.ImagePreprocessor import ImagePreprocessor\n",
    "from WordSpotter.ModelWrapper import DeepSoloWrapper\n",
    "\n",
    "from PIL import Image\n",
    "import os\n",
    "\n",
    "from Utils import result_reader as rr\n",
    "from Utils import bezier_utils as butils\n",
    "from Utils.visualizer import PolygonVisualizer\n",
    "from Utils import sampler\n",
    "\n",
    "import numpy as np\n",
    "\n",
    "import matplotlib.pyplot as plt\n",
    "\n",
    "# INPUT\n",
    "img_path = 'Test1/12148_btv1b530589233f1.jpg' # kiepert_1845.jpeg vandevelde_1846.jpeg test.jpg\n",
    "\n",
    "# OUTPUT\n",
    "task_name = os.path.splitext(os.path.basename(img_path))[0]\n",
    "\n",
    "output_dir = f'Results/{task_name}'\n",
    "\n",
    "# mkdir\n",
    "os.makedirs(output_dir, exist_ok=True)\n",
    "\n",
    "stacked_detection_path = os.path.join(output_dir, f'stacked_detections.json')\n",
    "\n",
    "flattened_detection_path = os.path.join(output_dir, f'flattened_detections.json')\n",
    "\n",
    "grouper_graph_path = os.path.join(output_dir, f'grouper_graph.gexf')\n",
    "\n",
    "toponym_detection_path = os.path.join(output_dir, f'toponym_detections.json')\n",
    "\n",
    "\n",
    "# MODELS\n",
    "model_cfg = 'WordSpotter/models/config_96voc.yaml'\n",
    "model_weights = 'WordSpotter/models/finetune_v2/model.pth'\n",
    "grouper_model_path = 'Grouper/grouper_model_v1_epoch2.pth' # grouper_model_epoch3.pth  grouper_model_v1_epoch2.pth\n",
    "# Optional\n",
    "deepfont_encoder_path = 'StyleEncoder/DeepFontEncoder_full.pth'"
   ]
  },
  {
   "cell_type": "markdown",
   "metadata": {},
   "source": [
    "## Step 1: Word Spotting"
   ]
  },
  {
   "cell_type": "markdown",
   "metadata": {},
   "source": [
    "### Operations"
   ]
  },
  {
   "cell_type": "code",
   "execution_count": 31,
   "metadata": {},
   "outputs": [
    {
     "name": "stdout",
     "output_type": "stream",
     "text": [
      "Cropping patches: [13]\n",
      "preprocessing done\n",
      "Rotating images by 0 degrees\n"
     ]
    },
    {
     "name": "stderr",
     "output_type": "stream",
     "text": [
      "100%|██████████| 22/22 [00:34<00:00,  1.55s/it]\n"
     ]
    },
    {
     "name": "stdout",
     "output_type": "stream",
     "text": [
      "Saving final results\n"
     ]
    }
   ],
   "source": [
    "from WordSpotting import pyramid_scan\n",
    "\n",
    "spotter = DeepSoloWrapper(model_cfg, model_weights, score_threshold=0.4)\n",
    "\n",
    "_ = pyramid_scan(img_path, stacked_detection_path, spotter, num_layers = 1, save_visualization=True)"
   ]
  },
  {
   "cell_type": "markdown",
   "metadata": {},
   "source": [
    "## Step 2: Flattening"
   ]
  },
  {
   "cell_type": "markdown",
   "metadata": {},
   "source": [
    "### Operations"
   ]
  },
  {
   "cell_type": "code",
   "execution_count": 2,
   "metadata": {},
   "outputs": [
    {
     "name": "stderr",
     "output_type": "stream",
     "text": [
      "100%|██████████| 2805/2805 [00:44<00:00, 63.59it/s]\n"
     ]
    }
   ],
   "source": [
    "from Flattening import aggregate_closest_results, normalize_adhesive\n",
    "\n",
    "result = rr.read_json(stacked_detection_path)\n",
    "        \n",
    "grouped_results, ambiguity = aggregate_closest_results(result, sample_count=15, evaluate_overlapping=\"any\")\n",
    "\n",
    "new_results = normalize_adhesive(grouped_results, ambiguity, Image.open('Input/kiepert_1845.jpeg'))\n",
    "\n",
    "rr.save_json(new_results, flattened_detection_path)"
   ]
  },
  {
   "cell_type": "markdown",
   "metadata": {},
   "source": [
    "### Visualization"
   ]
  },
  {
   "cell_type": "code",
   "execution_count": 3,
   "metadata": {},
   "outputs": [],
   "source": [
    "vis = PolygonVisualizer()\n",
    "vis.canvas_from_image(Image.open(img_path))\n",
    "vis.draw(new_results).save(flattened_detection_path.replace('.json', '.jpg'))"
   ]
  },
  {
   "cell_type": "markdown",
   "metadata": {},
   "source": [
    "## Optional: Word Style Representation"
   ]
  },
  {
   "cell_type": "markdown",
   "metadata": {},
   "source": [
    "### Operations"
   ]
  },
  {
   "cell_type": "code",
   "execution_count": 6,
   "metadata": {},
   "outputs": [
    {
     "name": "stderr",
     "output_type": "stream",
     "text": [
      "c:\\Users\\26553\\anaconda3\\envs\\DeepSolo\\lib\\site-packages\\torch\\nn\\functional.py:718: UserWarning: Named tensors and all their associated APIs are an experimental feature and subject to change. Please do not use them for anything important until they are released as stable. (Triggered internally at  ..\\c10/core/TensorImpl.h:1156.)\n",
      "  return torch.max_pool2d(input, kernel_size, stride, padding, dilation, ceil_mode)\n"
     ]
    }
   ],
   "source": [
    "from StyleEmbedding import generate_style_embeddings\n",
    "from StyleEncoder.DeepFont import DeepFontEncoder, EncodeFontBatch, load_model\n",
    "\n",
    "results = rr.read_json(flattened_detection_path)\n",
    "\n",
    "deepfont_encoder = load_model(deepfont_encoder_path)\n",
    "\n",
    "results = generate_style_embeddings(results, Image.open(img_path), deepfont_encoder)\n",
    "\n",
    "rr.save_json(results, flattened_detection_path)"
   ]
  },
  {
   "cell_type": "markdown",
   "metadata": {},
   "source": [
    "## Step 3: Toponym Assignment"
   ]
  },
  {
   "cell_type": "markdown",
   "metadata": {},
   "source": [
    "### Functions"
   ]
  },
  {
   "cell_type": "code",
   "execution_count": 2,
   "metadata": {},
   "outputs": [],
   "source": [
    "from Grouper.GrouperCaller_v1 import *\n",
    "from ToponymsAssignment import group_toponyms, toponym_from_graph_strong_component"
   ]
  },
  {
   "cell_type": "markdown",
   "metadata": {},
   "source": [
    "### Operations"
   ]
  },
  {
   "cell_type": "code",
   "execution_count": 3,
   "metadata": {},
   "outputs": [
    {
     "name": "stderr",
     "output_type": "stream",
     "text": [
      " 44%|████▍     | 2093/4753 [01:28<01:52, 23.70it/s]\n"
     ]
    },
    {
     "ename": "KeyboardInterrupt",
     "evalue": "",
     "output_type": "error",
     "traceback": [
      "\u001b[1;31m---------------------------------------------------------------------------\u001b[0m",
      "\u001b[1;31mKeyboardInterrupt\u001b[0m                         Traceback (most recent call last)",
      "Cell \u001b[1;32mIn[3], line 9\u001b[0m\n\u001b[0;32m      5\u001b[0m     use_style_embeddings \u001b[38;5;241m=\u001b[39m \u001b[38;5;28;01mTrue\u001b[39;00m\n\u001b[0;32m      7\u001b[0m grouper \u001b[38;5;241m=\u001b[39m GrouperCaller(grouper_model_path)\n\u001b[1;32m----> 9\u001b[0m directed_graph, order_observations \u001b[38;5;241m=\u001b[39m \u001b[43mgroup_toponyms\u001b[49m\u001b[43m(\u001b[49m\u001b[43mresults\u001b[49m\u001b[43m,\u001b[49m\u001b[43m \u001b[49m\u001b[43mgrouper\u001b[49m\u001b[43m,\u001b[49m\u001b[43m \u001b[49m\u001b[43muse_style_embeddings\u001b[49m\u001b[38;5;241;43m=\u001b[39;49m\u001b[43muse_style_embeddings\u001b[49m\u001b[43m,\u001b[49m\u001b[43m \u001b[49m\u001b[43mbatch_size\u001b[49m\u001b[38;5;241;43m=\u001b[39;49m\u001b[38;5;241;43m128\u001b[39;49m\u001b[43m)\u001b[49m\n\u001b[0;32m     11\u001b[0m rr\u001b[38;5;241m.\u001b[39msave_toponym_graph(directed_graph, grouper_graph_path)\n\u001b[0;32m     12\u001b[0m rr\u001b[38;5;241m.\u001b[39msave_json_nested(order_observations, grouper_graph_path\u001b[38;5;241m.\u001b[39mreplace(\u001b[38;5;124m'\u001b[39m\u001b[38;5;124m.gexf\u001b[39m\u001b[38;5;124m'\u001b[39m, \u001b[38;5;124m'\u001b[39m\u001b[38;5;124m.json\u001b[39m\u001b[38;5;124m'\u001b[39m))\n",
      "File \u001b[1;32mc:\\repo\\ToponymsExtractor\\ToponymsAssignment.py:26\u001b[0m, in \u001b[0;36mgroup_toponyms\u001b[1;34m(results, grouper, sample_count, use_style_embeddings, batch_size)\u001b[0m\n\u001b[0;32m     24\u001b[0m center_entry \u001b[38;5;241m=\u001b[39m results[j]\n\u001b[0;32m     25\u001b[0m \u001b[38;5;66;03m# Find the closest sample_count points to the center\u001b[39;00m\n\u001b[1;32m---> 26\u001b[0m closest_points, closest_indices \u001b[38;5;241m=\u001b[39m \u001b[43msampler\u001b[49m\u001b[38;5;241;43m.\u001b[39;49m\u001b[43msample\u001b[49m\u001b[43m(\u001b[49m\u001b[43mcenter_entry\u001b[49m\u001b[43m,\u001b[49m\u001b[43m \u001b[49m\u001b[43mresults\u001b[49m\u001b[43m,\u001b[49m\u001b[43m \u001b[49m\u001b[43msample_count\u001b[49m\u001b[43m,\u001b[49m\u001b[43m \u001b[49m\u001b[43mspatial_grids\u001b[49m\u001b[43m \u001b[49m\u001b[38;5;241;43m=\u001b[39;49m\u001b[43m \u001b[49m\u001b[38;5;28;43;01mNone\u001b[39;49;00m\u001b[43m,\u001b[49m\u001b[43m \u001b[49m\u001b[43mquery_grid\u001b[49m\u001b[38;5;241;43m=\u001b[39;49m\u001b[43mgrid\u001b[49m\u001b[43m[\u001b[49m\u001b[43mj\u001b[49m\u001b[43m]\u001b[49m\u001b[43m,\u001b[49m\u001b[43m \u001b[49m\u001b[43mgrid_search_range\u001b[49m\u001b[38;5;241;43m=\u001b[39;49m\u001b[38;5;241;43m2\u001b[39;49m\u001b[43m)\u001b[49m\n\u001b[0;32m     27\u001b[0m \u001b[38;5;66;03m#closest_points, closest_indices = sampler.sample2(center_entry, results, sample_count)\u001b[39;00m\n\u001b[0;32m     28\u001b[0m \u001b[38;5;66;03m#vis = visualizer.PolygonVisualizer()\u001b[39;00m\n\u001b[0;32m     29\u001b[0m \u001b[38;5;66;03m#vis.canvas_from_image(Image.open(\"Input/paris2.jpg\"))\u001b[39;00m\n\u001b[0;32m     30\u001b[0m \u001b[38;5;66;03m#vis.draw(closest_points).save(f\"Results/paris2/_debug.jpg\")\u001b[39;00m\n\u001b[0;32m     31\u001b[0m features \u001b[38;5;241m=\u001b[39m [np\u001b[38;5;241m.\u001b[39marray(np\u001b[38;5;241m.\u001b[39mconcatenate((np\u001b[38;5;241m.\u001b[39marray(point[\u001b[38;5;124m'\u001b[39m\u001b[38;5;124mupper_bezier_pts\u001b[39m\u001b[38;5;124m'\u001b[39m]), np\u001b[38;5;241m.\u001b[39marray(point[\u001b[38;5;124m'\u001b[39m\u001b[38;5;124mlower_bezier_pts\u001b[39m\u001b[38;5;124m'\u001b[39m][::\u001b[38;5;241m-\u001b[39m\u001b[38;5;241m1\u001b[39m]))))\u001b[38;5;241m.\u001b[39mflatten() \u001b[38;5;28;01mfor\u001b[39;00m point \u001b[38;5;129;01min\u001b[39;00m closest_points]\n",
      "File \u001b[1;32mc:\\repo\\ToponymsExtractor\\Utils\\sampler.py:93\u001b[0m, in \u001b[0;36msample\u001b[1;34m(word, results, sample_count, spatial_grids, query_grid, grid_search_range)\u001b[0m\n\u001b[0;32m     90\u001b[0m anchors_to_compare, result_indices \u001b[38;5;241m=\u001b[39m \u001b[38;5;28mzip\u001b[39m(\u001b[38;5;241m*\u001b[39manchor_id)\n\u001b[0;32m     92\u001b[0m dist_vectors \u001b[38;5;241m=\u001b[39m np\u001b[38;5;241m.\u001b[39marray(anchors_to_compare) \u001b[38;5;241m-\u001b[39m np\u001b[38;5;241m.\u001b[39marray(word_anchors)\n\u001b[1;32m---> 93\u001b[0m dist_vectors_transformed \u001b[38;5;241m=\u001b[39m \u001b[43mnp\u001b[49m\u001b[38;5;241;43m.\u001b[39;49m\u001b[43meinsum\u001b[49m\u001b[43m(\u001b[49m\u001b[38;5;124;43m'\u001b[39;49m\u001b[38;5;124;43mji,akj->aki\u001b[39;49m\u001b[38;5;124;43m'\u001b[39;49m\u001b[43m,\u001b[49m\u001b[43m \u001b[49m\u001b[43mT\u001b[49m\u001b[43m[\u001b[49m\u001b[43m:\u001b[49m\u001b[43m,\u001b[49m\u001b[43m:\u001b[49m\u001b[38;5;241;43m2\u001b[39;49m\u001b[43m]\u001b[49m\u001b[43m,\u001b[49m\u001b[43m \u001b[49m\u001b[43mdist_vectors\u001b[49m\u001b[43m)\u001b[49m\n\u001b[0;32m     94\u001b[0m distances \u001b[38;5;241m=\u001b[39m np\u001b[38;5;241m.\u001b[39mmin(np\u001b[38;5;241m.\u001b[39mlinalg\u001b[38;5;241m.\u001b[39mnorm(dist_vectors_transformed, axis\u001b[38;5;241m=\u001b[39m\u001b[38;5;241m2\u001b[39m), axis\u001b[38;5;241m=\u001b[39m\u001b[38;5;241m1\u001b[39m)\n\u001b[0;32m     96\u001b[0m closest_indices \u001b[38;5;241m=\u001b[39m np\u001b[38;5;241m.\u001b[39margsort(distances)[:sample_count \u001b[38;5;241m+\u001b[39m \u001b[38;5;241m1\u001b[39m]\n",
      "File \u001b[1;32m<__array_function__ internals>:5\u001b[0m, in \u001b[0;36meinsum\u001b[1;34m(*args, **kwargs)\u001b[0m\n",
      "File \u001b[1;32mc:\\Users\\26553\\anaconda3\\envs\\DeepSolo\\lib\\site-packages\\numpy\\core\\einsumfunc.py:1361\u001b[0m, in \u001b[0;36meinsum\u001b[1;34m(out, optimize, *operands, **kwargs)\u001b[0m\n\u001b[0;32m   1359\u001b[0m     \u001b[38;5;28;01mif\u001b[39;00m specified_out:\n\u001b[0;32m   1360\u001b[0m         kwargs[\u001b[38;5;124m'\u001b[39m\u001b[38;5;124mout\u001b[39m\u001b[38;5;124m'\u001b[39m] \u001b[38;5;241m=\u001b[39m out\n\u001b[1;32m-> 1361\u001b[0m     \u001b[38;5;28;01mreturn\u001b[39;00m \u001b[43mc_einsum\u001b[49m\u001b[43m(\u001b[49m\u001b[38;5;241;43m*\u001b[39;49m\u001b[43moperands\u001b[49m\u001b[43m,\u001b[49m\u001b[43m \u001b[49m\u001b[38;5;241;43m*\u001b[39;49m\u001b[38;5;241;43m*\u001b[39;49m\u001b[43mkwargs\u001b[49m\u001b[43m)\u001b[49m\n\u001b[0;32m   1363\u001b[0m \u001b[38;5;66;03m# Check the kwargs to avoid a more cryptic error later, without having to\u001b[39;00m\n\u001b[0;32m   1364\u001b[0m \u001b[38;5;66;03m# repeat default values here\u001b[39;00m\n\u001b[0;32m   1365\u001b[0m valid_einsum_kwargs \u001b[38;5;241m=\u001b[39m [\u001b[38;5;124m'\u001b[39m\u001b[38;5;124mdtype\u001b[39m\u001b[38;5;124m'\u001b[39m, \u001b[38;5;124m'\u001b[39m\u001b[38;5;124morder\u001b[39m\u001b[38;5;124m'\u001b[39m, \u001b[38;5;124m'\u001b[39m\u001b[38;5;124mcasting\u001b[39m\u001b[38;5;124m'\u001b[39m]\n",
      "\u001b[1;31mKeyboardInterrupt\u001b[0m: "
     ]
    }
   ],
   "source": [
    "results = rr.read_json(flattened_detection_path)\n",
    "\n",
    "use_style_embeddings = False\n",
    "if 'style_embedding' in results[0].keys():\n",
    "    use_style_embeddings = True\n",
    "\n",
    "grouper = GrouperCaller(grouper_model_path)\n",
    "\n",
    "directed_graph, order_observations = group_toponyms(results, grouper, use_style_embeddings=use_style_embeddings, batch_size=128)\n",
    "\n",
    "rr.save_toponym_graph(directed_graph, grouper_graph_path)\n",
    "rr.save_json_nested(order_observations, grouper_graph_path.replace('.gexf', '.json'))"
   ]
  },
  {
   "cell_type": "code",
   "execution_count": 4,
   "metadata": {},
   "outputs": [],
   "source": [
    "results = rr.read_json(flattened_detection_path)\n",
    "directed_graph = rr.read_toponym_graph(grouper_graph_path)\n",
    "order_observations = rr.read_json_nested(grouper_graph_path.replace('.gexf', '.json'))\n",
    "\n",
    "toponyms = toponym_from_graph_strong_component(results, directed_graph, order_observations)\n",
    "\n",
    "rr.save_json_nested(toponyms, toponym_detection_path)"
   ]
  },
  {
   "cell_type": "markdown",
   "metadata": {},
   "source": [
    "### Visualization"
   ]
  },
  {
   "cell_type": "code",
   "execution_count": 6,
   "metadata": {},
   "outputs": [],
   "source": [
    "toponyms = rr.read_json_nested(toponym_detection_path)\n",
    "\n",
    "vis = PolygonVisualizer()\n",
    "vis.canvas_from_image(Image.open(img_path))\n",
    "vis.draw_multiple(toponyms).save(toponym_detection_path.replace('.json', '.jpg'))"
   ]
  },
  {
   "cell_type": "code",
   "execution_count": 5,
   "metadata": {},
   "outputs": [
    {
     "name": "stdout",
     "output_type": "stream",
     "text": [
      "462\n"
     ]
    }
   ],
   "source": [
    "toponyms = rr.read_json_nested(toponym_detection_path)\n",
    "\n",
    "toponyms_final = rr.extract_toponyms_from_result_groups(toponyms)\n",
    "\n",
    "print(len(toponyms_final))\n",
    "\n",
    "vis = PolygonVisualizer()\n",
    "vis.canvas_from_image(Image.open(img_path))\n",
    "vis.draw_toponyms(toponyms_final).save(toponym_detection_path.replace('.json', '.jpg'))\n"
   ]
  }
 ],
 "metadata": {
  "kernelspec": {
   "display_name": "DeepSolo",
   "language": "python",
   "name": "python3"
  },
  "language_info": {
   "codemirror_mode": {
    "name": "ipython",
    "version": 3
   },
   "file_extension": ".py",
   "mimetype": "text/x-python",
   "name": "python",
   "nbconvert_exporter": "python",
   "pygments_lexer": "ipython3",
   "version": "3.8.19"
  }
 },
 "nbformat": 4,
 "nbformat_minor": 2
}
